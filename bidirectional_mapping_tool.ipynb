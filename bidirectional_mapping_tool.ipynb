{
  "cells": [
    {
      "cell_type": "markdown",
      "metadata": {
        "id": "view-in-github",
        "colab_type": "text"
      },
      "source": [
        "<a href=\"https://colab.research.google.com/github/rahulguptagzb09/Bidirectional_Tool_Natural_Text_Python/blob/main/bidirectional_mapping_tool.ipynb\" target=\"_parent\"><img src=\"https://colab.research.google.com/assets/colab-badge.svg\" alt=\"Open In Colab\"/></a>"
      ]
    },
    {
      "cell_type": "code",
      "execution_count": null,
      "id": "6ad4d846",
      "metadata": {
        "id": "6ad4d846"
      },
      "outputs": [],
      "source": [
        "# !pip install openai"
      ]
    },
    {
      "cell_type": "code",
      "source": [
        "import sys\n",
        "import collections\n",
        "import platform\n",
        "\n",
        "print(sys.version_info)\n",
        "# Check if running Python version > 3.9\n",
        "if sys.version_info >= (3, 9):\n",
        "  if not hasattr(collections, 'MutableMapping'):\n",
        "      import collections.abc\n",
        "      collections.MutableMapping = collections.abc.MutableMapping"
      ],
      "metadata": {
        "id": "PK9GswgTFNeW"
      },
      "id": "PK9GswgTFNeW",
      "execution_count": null,
      "outputs": []
    },
    {
      "cell_type": "code",
      "execution_count": null,
      "id": "d10fd202",
      "metadata": {
        "id": "d10fd202"
      },
      "outputs": [],
      "source": [
        "import ipywidgets as widgets\n",
        "from IPython.display import display\n",
        "import openai\n",
        "\n",
        "from google.colab import userdata\n",
        "userdata.get('openai_api_key')\n",
        "\n",
        "openai.api_key = userdata.get('openai_api_key')  # Replace with your actual API key"
      ]
    },
    {
      "cell_type": "code",
      "execution_count": null,
      "id": "27cd2c5b",
      "metadata": {
        "id": "27cd2c5b"
      },
      "outputs": [],
      "source": [
        "# Define Widgets\n",
        "natural_input = widgets.Textarea(\n",
        "    placeholder='Enter logic in natural language...',\n",
        "    description='Natural Language:',\n",
        "    layout=widgets.Layout(width='100%', height='120px')\n",
        ")\n",
        "\n",
        "structured_output = widgets.Textarea(\n",
        "    placeholder='Structured text (intermediate representation)...',\n",
        "    description='Structured Text:',\n",
        "    layout=widgets.Layout(width='100%', height='120px')\n",
        ")\n",
        "\n",
        "code_output = widgets.Textarea(\n",
        "    placeholder='Python code generated from structured text...',\n",
        "    description='Python Code:',\n",
        "    layout=widgets.Layout(width='100%', height='120px')\n",
        ")\n",
        "\n",
        "convert_button = widgets.Button(description=\"Convert\")"
      ]
    },
    {
      "cell_type": "code",
      "execution_count": null,
      "id": "642d1799",
      "metadata": {
        "id": "642d1799"
      },
      "outputs": [],
      "source": [
        "# OpenAI Translation Functions\n",
        "def call_chatgpt(prompt):\n",
        "    try:\n",
        "        response = openai.chat.completions.create(\n",
        "            model=\"gpt-4o-mini\",\n",
        "            messages=[{\"role\": \"user\", \"content\": prompt}],\n",
        "            temperature=0\n",
        "        )\n",
        "        return response.choices[0].message.content.strip()\n",
        "    except Exception as e:\n",
        "        return f\"Error: {e}\"\n",
        "\n",
        "def natural_to_structured(nl_text):\n",
        "    prompt = f\"\"\"You are a code assistant.\n",
        "Convert the following natural language into unambiguous structured pseudocode instructions.\n",
        "Use a consistent and readable format that can be reliably mapped to Python code.\n",
        "Give only structured text or pseudocode in output and nothing else.\n",
        "Natural language:\n",
        "{nl_text}\n",
        "Structured logic:\"\"\"\n",
        "    return call_chatgpt(prompt)\n",
        "\n",
        "def structured_to_code(structured_text):\n",
        "    prompt = f\"\"\"You are a code assistant.\n",
        "Convert the following structured pseudocode into valid Python code.\n",
        "Give only Python code in output and nothing else.\n",
        "Structured logic:\n",
        "{structured_text}\n",
        "\n",
        "Python code:\"\"\"\n",
        "    return call_chatgpt(prompt)\n",
        "\n",
        "def code_to_structured(code_text):\n",
        "    prompt = f\"\"\"You are a code assistant.\n",
        "Explain the following Python code in structured pseudocode format.\n",
        "Maintain clarity and consistency with examples provided.\n",
        "Give only structured text or pseudocode in output and nothing else.\n",
        "Python code:\n",
        "{code_text}\n",
        "\n",
        "Structured logic:\"\"\"\n",
        "    return call_chatgpt(prompt)"
      ]
    },
    {
      "cell_type": "code",
      "execution_count": null,
      "id": "040664eb",
      "metadata": {
        "id": "040664eb"
      },
      "outputs": [],
      "source": [
        "# Event Handlers\n",
        "def on_convert_clicked(b):\n",
        "    structured = natural_to_structured(natural_input.value)\n",
        "    structured_output.value = structured\n",
        "\n",
        "    code = structured_to_code(structured)\n",
        "    code_output.value = code\n",
        "\n",
        "def on_code_edit(change):\n",
        "    if change['type'] == 'change' and change['name'] == 'value':\n",
        "        structured = code_to_structured(change['new'])\n",
        "        structured_output.value = structured\n",
        "\n",
        "convert_button.on_click(on_convert_clicked)\n",
        "code_output.observe(on_code_edit)"
      ]
    },
    {
      "cell_type": "code",
      "execution_count": null,
      "id": "40b71d41",
      "metadata": {
        "id": "40b71d41"
      },
      "outputs": [],
      "source": [
        "# Display UI\n",
        "display(natural_input, structured_output, code_output, convert_button)"
      ]
    },
    {
      "cell_type": "code",
      "source": [],
      "metadata": {
        "id": "zSioJGGp_x5X"
      },
      "id": "zSioJGGp_x5X",
      "execution_count": null,
      "outputs": []
    }
  ],
  "metadata": {
    "kernelspec": {
      "display_name": "parser",
      "language": "python",
      "name": "python3"
    },
    "language_info": {
      "codemirror_mode": {
        "name": "ipython",
        "version": 3
      },
      "file_extension": ".py",
      "mimetype": "text/x-python",
      "name": "python",
      "nbconvert_exporter": "python",
      "pygments_lexer": "ipython3",
      "version": "3.8.20"
    },
    "colab": {
      "provenance": [],
      "include_colab_link": true
    }
  },
  "nbformat": 4,
  "nbformat_minor": 5
}