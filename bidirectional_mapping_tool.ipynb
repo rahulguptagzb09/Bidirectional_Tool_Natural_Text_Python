{
  "cells": [
    {
      "cell_type": "markdown",
      "metadata": {
        "id": "view-in-github",
        "colab_type": "text"
      },
      "source": [
        "<a href=\"https://colab.research.google.com/github/rahulguptagzb09/Bidirectional_Tool_Natural_Text_Python/blob/main/bidirectional_mapping_tool.ipynb\" target=\"_parent\"><img src=\"https://colab.research.google.com/assets/colab-badge.svg\" alt=\"Open In Colab\"/></a>"
      ]
    },
    {
      "cell_type": "code",
      "execution_count": 8,
      "id": "6ad4d846",
      "metadata": {
        "id": "6ad4d846"
      },
      "outputs": [],
      "source": [
        "# !pip install openai"
      ]
    },
    {
      "cell_type": "code",
      "source": [
        "import sys\n",
        "import collections\n",
        "import platform\n",
        "\n",
        "print(sys.version_info)\n",
        "# Check if running Python version > 3.9\n",
        "if sys.version_info >= (3, 9):\n",
        "  if not hasattr(collections, 'MutableMapping'):\n",
        "      import collections.abc\n",
        "      collections.MutableMapping = collections.abc.MutableMapping"
      ],
      "metadata": {
        "id": "PK9GswgTFNeW",
        "colab": {
          "base_uri": "https://localhost:8080/"
        },
        "outputId": "1a2062a7-8e8b-49b2-b40a-de1b8c1717ed"
      },
      "id": "PK9GswgTFNeW",
      "execution_count": 9,
      "outputs": [
        {
          "output_type": "stream",
          "name": "stdout",
          "text": [
            "sys.version_info(major=3, minor=11, micro=12, releaselevel='final', serial=0)\n"
          ]
        }
      ]
    },
    {
      "cell_type": "code",
      "execution_count": 10,
      "id": "d10fd202",
      "metadata": {
        "id": "d10fd202"
      },
      "outputs": [],
      "source": [
        "import ipywidgets as widgets\n",
        "from IPython.display import display\n",
        "import openai\n",
        "\n",
        "from google.colab import userdata\n",
        "userdata.get('openai_api_key')\n",
        "\n",
        "openai.api_key = userdata.get('openai_api_key')  # Replace with your actual API key"
      ]
    },
    {
      "cell_type": "code",
      "execution_count": 11,
      "id": "27cd2c5b",
      "metadata": {
        "id": "27cd2c5b"
      },
      "outputs": [],
      "source": [
        "# Define Widgets\n",
        "natural_input = widgets.Textarea(\n",
        "    placeholder='Enter logic in natural language...',\n",
        "    description='Natural Language:',\n",
        "    layout=widgets.Layout(width='100%', height='120px')\n",
        ")\n",
        "\n",
        "structured_output = widgets.Textarea(\n",
        "    placeholder='Structured text (intermediate representation)...',\n",
        "    description='Structured Text:',\n",
        "    layout=widgets.Layout(width='100%', height='120px')\n",
        ")\n",
        "\n",
        "code_output = widgets.Textarea(\n",
        "    placeholder='Python code generated from structured text...',\n",
        "    description='Python Code:',\n",
        "    layout=widgets.Layout(width='100%', height='120px')\n",
        ")\n",
        "\n",
        "convert_button = widgets.Button(description=\"Convert\")"
      ]
    },
    {
      "cell_type": "code",
      "execution_count": 12,
      "id": "642d1799",
      "metadata": {
        "id": "642d1799"
      },
      "outputs": [],
      "source": [
        "# OpenAI Translation Functions\n",
        "def call_chatgpt(prompt):\n",
        "    try:\n",
        "        response = openai.chat.completions.create(\n",
        "            model=\"gpt-4o-mini\",\n",
        "            messages=[{\"role\": \"user\", \"content\": prompt}],\n",
        "            temperature=0\n",
        "        )\n",
        "        return response.choices[0].message.content.strip()\n",
        "    except Exception as e:\n",
        "        return f\"Error: {e}\"\n",
        "\n",
        "def natural_to_structured(nl_text):\n",
        "    prompt = f\"\"\"You are a code assistant.\n",
        "Convert the following natural language into unambiguous structured pseudocode instructions.\n",
        "Use a consistent and readable format that can be reliably mapped to Python code.\n",
        "Give only structured text or pseudocode in output and nothing else.\n",
        "Natural language:\n",
        "{nl_text}\n",
        "Structured logic:\"\"\"\n",
        "    return call_chatgpt(prompt)\n",
        "\n",
        "def structured_to_code(structured_text):\n",
        "    prompt = f\"\"\"You are a code assistant.\n",
        "Convert the following structured pseudocode into valid Python code.\n",
        "Give only Python code in output and nothing else.\n",
        "Structured logic:\n",
        "{structured_text}\n",
        "\n",
        "Python code:\"\"\"\n",
        "    return call_chatgpt(prompt)\n",
        "\n",
        "def code_to_structured(code_text):\n",
        "    prompt = f\"\"\"You are a code assistant.\n",
        "Explain the following Python code in structured pseudocode format.\n",
        "Maintain clarity and consistency with examples provided.\n",
        "Give only structured text or pseudocode in output and nothing else.\n",
        "Python code:\n",
        "{code_text}\n",
        "\n",
        "Structured logic:\"\"\"\n",
        "    return call_chatgpt(prompt)"
      ]
    },
    {
      "cell_type": "code",
      "execution_count": 13,
      "id": "040664eb",
      "metadata": {
        "id": "040664eb"
      },
      "outputs": [],
      "source": [
        "# Event Handlers\n",
        "def on_convert_clicked(b):\n",
        "    structured = natural_to_structured(natural_input.value)\n",
        "    structured_output.value = structured\n",
        "\n",
        "    code = structured_to_code(structured)\n",
        "    code_output.value = code\n",
        "\n",
        "def on_code_edit(change):\n",
        "    if change['type'] == 'change' and change['name'] == 'value':\n",
        "        structured = code_to_structured(change['new'])\n",
        "        structured_output.value = structured\n",
        "\n",
        "convert_button.on_click(on_convert_clicked)\n",
        "code_output.observe(on_code_edit)"
      ]
    },
    {
      "cell_type": "code",
      "execution_count": 14,
      "id": "40b71d41",
      "metadata": {
        "colab": {
          "base_uri": "https://localhost:8080/",
          "height": 437,
          "referenced_widgets": [
            "824b51057e424943ba7c12f1d80a51c6",
            "d4737ebc2bd04551bd26ecd4c80a1674",
            "ea7e6fe266484634b39946b00e295549",
            "f6721411fd3e43fe996e29b47ecbe671",
            "62b1cd2cd2be4bee90f44037e5ff5594",
            "1e8597f9716344bbbb1a66b5399387a0",
            "c3324fd2cbea46cb85f71fc79b351cc5",
            "9706a6bb6ff74543992029058f75f66f",
            "588ba8396eee4ae780e7059ec61629b8",
            "85adc33b825b4eecb2cb81c186a1ea14",
            "b7920a3d0ba64c51935da18fa0e12023",
            "7da87008cbdc410aafb8eaf6ba93a55f"
          ]
        },
        "id": "40b71d41",
        "outputId": "39e1a905-c204-4611-94d4-63ad0fd4d32f"
      },
      "outputs": [
        {
          "output_type": "display_data",
          "data": {
            "text/plain": [
              "Textarea(value='', description='Natural Language:', layout=Layout(height='120px', width='100%'), placeholder='…"
            ],
            "application/vnd.jupyter.widget-view+json": {
              "version_major": 2,
              "version_minor": 0,
              "model_id": "824b51057e424943ba7c12f1d80a51c6"
            }
          },
          "metadata": {}
        },
        {
          "output_type": "display_data",
          "data": {
            "text/plain": [
              "Textarea(value='', description='Structured Text:', layout=Layout(height='120px', width='100%'), placeholder='S…"
            ],
            "application/vnd.jupyter.widget-view+json": {
              "version_major": 2,
              "version_minor": 0,
              "model_id": "f6721411fd3e43fe996e29b47ecbe671"
            }
          },
          "metadata": {}
        },
        {
          "output_type": "display_data",
          "data": {
            "text/plain": [
              "Textarea(value='', description='Python Code:', layout=Layout(height='120px', width='100%'), placeholder='Pytho…"
            ],
            "application/vnd.jupyter.widget-view+json": {
              "version_major": 2,
              "version_minor": 0,
              "model_id": "c3324fd2cbea46cb85f71fc79b351cc5"
            }
          },
          "metadata": {}
        },
        {
          "output_type": "display_data",
          "data": {
            "text/plain": [
              "Button(description='Convert', style=ButtonStyle())"
            ],
            "application/vnd.jupyter.widget-view+json": {
              "version_major": 2,
              "version_minor": 0,
              "model_id": "85adc33b825b4eecb2cb81c186a1ea14"
            }
          },
          "metadata": {}
        }
      ],
      "source": [
        "# Display UI\n",
        "display(natural_input, structured_output, code_output, convert_button)"
      ]
    },
    {
      "cell_type": "code",
      "source": [],
      "metadata": {
        "id": "zSioJGGp_x5X"
      },
      "id": "zSioJGGp_x5X",
      "execution_count": null,
      "outputs": []
    }
  ],
  "metadata": {
    "kernelspec": {
      "display_name": "parser",
      "language": "python",
      "name": "python3"
    },
    "language_info": {
      "codemirror_mode": {
        "name": "ipython",
        "version": 3
      },
      "file_extension": ".py",
      "mimetype": "text/x-python",
      "name": "python",
      "nbconvert_exporter": "python",
      "pygments_lexer": "ipython3",
      "version": "3.8.20"
    },
    "colab": {
      "provenance": [],
      "include_colab_link": true
    },
    "widgets": {
      "application/vnd.jupyter.widget-state+json": {
        "824b51057e424943ba7c12f1d80a51c6": {
          "model_module": "@jupyter-widgets/controls",
          "model_name": "TextareaModel",
          "model_module_version": "1.5.0",
          "state": {
            "_dom_classes": [],
            "_model_module": "@jupyter-widgets/controls",
            "_model_module_version": "1.5.0",
            "_model_name": "TextareaModel",
            "_view_count": null,
            "_view_module": "@jupyter-widgets/controls",
            "_view_module_version": "1.5.0",
            "_view_name": "TextareaView",
            "continuous_update": true,
            "description": "Natural Language:",
            "description_tooltip": null,
            "disabled": false,
            "layout": "IPY_MODEL_d4737ebc2bd04551bd26ecd4c80a1674",
            "placeholder": "Enter logic in natural language...",
            "rows": null,
            "style": "IPY_MODEL_ea7e6fe266484634b39946b00e295549",
            "value": "if the value stored under the name x is greater than 0, then show \"Positive\" on the screen.otherwise, if the value stored under the name x is equal to 0, then show \"Zero\" on the screen.if none of the above conditions are true, show \"Negative\" on the screen."
          }
        },
        "d4737ebc2bd04551bd26ecd4c80a1674": {
          "model_module": "@jupyter-widgets/base",
          "model_name": "LayoutModel",
          "model_module_version": "1.2.0",
          "state": {
            "_model_module": "@jupyter-widgets/base",
            "_model_module_version": "1.2.0",
            "_model_name": "LayoutModel",
            "_view_count": null,
            "_view_module": "@jupyter-widgets/base",
            "_view_module_version": "1.2.0",
            "_view_name": "LayoutView",
            "align_content": null,
            "align_items": null,
            "align_self": null,
            "border": null,
            "bottom": null,
            "display": null,
            "flex": null,
            "flex_flow": null,
            "grid_area": null,
            "grid_auto_columns": null,
            "grid_auto_flow": null,
            "grid_auto_rows": null,
            "grid_column": null,
            "grid_gap": null,
            "grid_row": null,
            "grid_template_areas": null,
            "grid_template_columns": null,
            "grid_template_rows": null,
            "height": "120px",
            "justify_content": null,
            "justify_items": null,
            "left": null,
            "margin": null,
            "max_height": null,
            "max_width": null,
            "min_height": null,
            "min_width": null,
            "object_fit": null,
            "object_position": null,
            "order": null,
            "overflow": null,
            "overflow_x": null,
            "overflow_y": null,
            "padding": null,
            "right": null,
            "top": null,
            "visibility": null,
            "width": "100%"
          }
        },
        "ea7e6fe266484634b39946b00e295549": {
          "model_module": "@jupyter-widgets/controls",
          "model_name": "DescriptionStyleModel",
          "model_module_version": "1.5.0",
          "state": {
            "_model_module": "@jupyter-widgets/controls",
            "_model_module_version": "1.5.0",
            "_model_name": "DescriptionStyleModel",
            "_view_count": null,
            "_view_module": "@jupyter-widgets/base",
            "_view_module_version": "1.2.0",
            "_view_name": "StyleView",
            "description_width": ""
          }
        },
        "f6721411fd3e43fe996e29b47ecbe671": {
          "model_module": "@jupyter-widgets/controls",
          "model_name": "TextareaModel",
          "model_module_version": "1.5.0",
          "state": {
            "_dom_classes": [],
            "_model_module": "@jupyter-widgets/controls",
            "_model_module_version": "1.5.0",
            "_model_name": "TextareaModel",
            "_view_count": null,
            "_view_module": "@jupyter-widgets/controls",
            "_view_module_version": "1.5.0",
            "_view_name": "TextareaView",
            "continuous_update": true,
            "description": "Structured Text:",
            "description_tooltip": null,
            "disabled": false,
            "layout": "IPY_MODEL_62b1cd2cd2be4bee90f44037e5ff5594",
            "placeholder": "Structured text (intermediate representation)...",
            "rows": null,
            "style": "IPY_MODEL_1e8597f9716344bbbb1a66b5399387a0",
            "value": "```\nBEGIN\n    IF x > 0 THEN\n        PRINT \"Positive\"\n    ELSE IF x == 0 THEN\n        PRINT \"Zerooooo\"\n    ELSE\n        PRINT \"Negative\"\n    END IF\nEND\n```"
          }
        },
        "62b1cd2cd2be4bee90f44037e5ff5594": {
          "model_module": "@jupyter-widgets/base",
          "model_name": "LayoutModel",
          "model_module_version": "1.2.0",
          "state": {
            "_model_module": "@jupyter-widgets/base",
            "_model_module_version": "1.2.0",
            "_model_name": "LayoutModel",
            "_view_count": null,
            "_view_module": "@jupyter-widgets/base",
            "_view_module_version": "1.2.0",
            "_view_name": "LayoutView",
            "align_content": null,
            "align_items": null,
            "align_self": null,
            "border": null,
            "bottom": null,
            "display": null,
            "flex": null,
            "flex_flow": null,
            "grid_area": null,
            "grid_auto_columns": null,
            "grid_auto_flow": null,
            "grid_auto_rows": null,
            "grid_column": null,
            "grid_gap": null,
            "grid_row": null,
            "grid_template_areas": null,
            "grid_template_columns": null,
            "grid_template_rows": null,
            "height": "120px",
            "justify_content": null,
            "justify_items": null,
            "left": null,
            "margin": null,
            "max_height": null,
            "max_width": null,
            "min_height": null,
            "min_width": null,
            "object_fit": null,
            "object_position": null,
            "order": null,
            "overflow": null,
            "overflow_x": null,
            "overflow_y": null,
            "padding": null,
            "right": null,
            "top": null,
            "visibility": null,
            "width": "100%"
          }
        },
        "1e8597f9716344bbbb1a66b5399387a0": {
          "model_module": "@jupyter-widgets/controls",
          "model_name": "DescriptionStyleModel",
          "model_module_version": "1.5.0",
          "state": {
            "_model_module": "@jupyter-widgets/controls",
            "_model_module_version": "1.5.0",
            "_model_name": "DescriptionStyleModel",
            "_view_count": null,
            "_view_module": "@jupyter-widgets/base",
            "_view_module_version": "1.2.0",
            "_view_name": "StyleView",
            "description_width": ""
          }
        },
        "c3324fd2cbea46cb85f71fc79b351cc5": {
          "model_module": "@jupyter-widgets/controls",
          "model_name": "TextareaModel",
          "model_module_version": "1.5.0",
          "state": {
            "_dom_classes": [],
            "_model_module": "@jupyter-widgets/controls",
            "_model_module_version": "1.5.0",
            "_model_name": "TextareaModel",
            "_view_count": null,
            "_view_module": "@jupyter-widgets/controls",
            "_view_module_version": "1.5.0",
            "_view_name": "TextareaView",
            "continuous_update": true,
            "description": "Python Code:",
            "description_tooltip": null,
            "disabled": false,
            "layout": "IPY_MODEL_9706a6bb6ff74543992029058f75f66f",
            "placeholder": "Python code generated from structured text...",
            "rows": null,
            "style": "IPY_MODEL_588ba8396eee4ae780e7059ec61629b8",
            "value": "```python\nif x > 0:\n    print(\"Positive\")\nelif x == 0:\n    print(\"Zerooooo\")\nelse:\n    print(\"Negative\")\n```"
          }
        },
        "9706a6bb6ff74543992029058f75f66f": {
          "model_module": "@jupyter-widgets/base",
          "model_name": "LayoutModel",
          "model_module_version": "1.2.0",
          "state": {
            "_model_module": "@jupyter-widgets/base",
            "_model_module_version": "1.2.0",
            "_model_name": "LayoutModel",
            "_view_count": null,
            "_view_module": "@jupyter-widgets/base",
            "_view_module_version": "1.2.0",
            "_view_name": "LayoutView",
            "align_content": null,
            "align_items": null,
            "align_self": null,
            "border": null,
            "bottom": null,
            "display": null,
            "flex": null,
            "flex_flow": null,
            "grid_area": null,
            "grid_auto_columns": null,
            "grid_auto_flow": null,
            "grid_auto_rows": null,
            "grid_column": null,
            "grid_gap": null,
            "grid_row": null,
            "grid_template_areas": null,
            "grid_template_columns": null,
            "grid_template_rows": null,
            "height": "120px",
            "justify_content": null,
            "justify_items": null,
            "left": null,
            "margin": null,
            "max_height": null,
            "max_width": null,
            "min_height": null,
            "min_width": null,
            "object_fit": null,
            "object_position": null,
            "order": null,
            "overflow": null,
            "overflow_x": null,
            "overflow_y": null,
            "padding": null,
            "right": null,
            "top": null,
            "visibility": null,
            "width": "100%"
          }
        },
        "588ba8396eee4ae780e7059ec61629b8": {
          "model_module": "@jupyter-widgets/controls",
          "model_name": "DescriptionStyleModel",
          "model_module_version": "1.5.0",
          "state": {
            "_model_module": "@jupyter-widgets/controls",
            "_model_module_version": "1.5.0",
            "_model_name": "DescriptionStyleModel",
            "_view_count": null,
            "_view_module": "@jupyter-widgets/base",
            "_view_module_version": "1.2.0",
            "_view_name": "StyleView",
            "description_width": ""
          }
        },
        "85adc33b825b4eecb2cb81c186a1ea14": {
          "model_module": "@jupyter-widgets/controls",
          "model_name": "ButtonModel",
          "model_module_version": "1.5.0",
          "state": {
            "_dom_classes": [],
            "_model_module": "@jupyter-widgets/controls",
            "_model_module_version": "1.5.0",
            "_model_name": "ButtonModel",
            "_view_count": null,
            "_view_module": "@jupyter-widgets/controls",
            "_view_module_version": "1.5.0",
            "_view_name": "ButtonView",
            "button_style": "",
            "description": "Convert",
            "disabled": false,
            "icon": "",
            "layout": "IPY_MODEL_b7920a3d0ba64c51935da18fa0e12023",
            "style": "IPY_MODEL_7da87008cbdc410aafb8eaf6ba93a55f",
            "tooltip": ""
          }
        },
        "b7920a3d0ba64c51935da18fa0e12023": {
          "model_module": "@jupyter-widgets/base",
          "model_name": "LayoutModel",
          "model_module_version": "1.2.0",
          "state": {
            "_model_module": "@jupyter-widgets/base",
            "_model_module_version": "1.2.0",
            "_model_name": "LayoutModel",
            "_view_count": null,
            "_view_module": "@jupyter-widgets/base",
            "_view_module_version": "1.2.0",
            "_view_name": "LayoutView",
            "align_content": null,
            "align_items": null,
            "align_self": null,
            "border": null,
            "bottom": null,
            "display": null,
            "flex": null,
            "flex_flow": null,
            "grid_area": null,
            "grid_auto_columns": null,
            "grid_auto_flow": null,
            "grid_auto_rows": null,
            "grid_column": null,
            "grid_gap": null,
            "grid_row": null,
            "grid_template_areas": null,
            "grid_template_columns": null,
            "grid_template_rows": null,
            "height": null,
            "justify_content": null,
            "justify_items": null,
            "left": null,
            "margin": null,
            "max_height": null,
            "max_width": null,
            "min_height": null,
            "min_width": null,
            "object_fit": null,
            "object_position": null,
            "order": null,
            "overflow": null,
            "overflow_x": null,
            "overflow_y": null,
            "padding": null,
            "right": null,
            "top": null,
            "visibility": null,
            "width": null
          }
        },
        "7da87008cbdc410aafb8eaf6ba93a55f": {
          "model_module": "@jupyter-widgets/controls",
          "model_name": "ButtonStyleModel",
          "model_module_version": "1.5.0",
          "state": {
            "_model_module": "@jupyter-widgets/controls",
            "_model_module_version": "1.5.0",
            "_model_name": "ButtonStyleModel",
            "_view_count": null,
            "_view_module": "@jupyter-widgets/base",
            "_view_module_version": "1.2.0",
            "_view_name": "StyleView",
            "button_color": null,
            "font_weight": ""
          }
        }
      }
    }
  },
  "nbformat": 4,
  "nbformat_minor": 5
}